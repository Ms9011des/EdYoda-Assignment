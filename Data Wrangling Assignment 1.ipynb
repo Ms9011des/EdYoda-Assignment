{
 "cells": [
  {
   "cell_type": "code",
   "execution_count": 2,
   "id": "cd5597e5",
   "metadata": {},
   "outputs": [],
   "source": [
    "import numpy as np"
   ]
  },
  {
   "cell_type": "markdown",
   "id": "4d9a3072",
   "metadata": {},
   "source": [
    "1. Create a null vector of size 10 but the fifth value which is 1"
   ]
  },
  {
   "cell_type": "code",
   "execution_count": 6,
   "id": "7e6858f8",
   "metadata": {},
   "outputs": [
    {
     "name": "stdout",
     "output_type": "stream",
     "text": [
      "[0 0 0 0 1 0 0 0 0 0]\n"
     ]
    }
   ],
   "source": [
    "print((np.arange(10) == 4) * 1)"
   ]
  },
  {
   "cell_type": "markdown",
   "id": "16764c6a",
   "metadata": {},
   "source": [
    "2. Create a vector with values ranging from 10 to 49."
   ]
  },
  {
   "cell_type": "code",
   "execution_count": 11,
   "id": "50484f0a",
   "metadata": {},
   "outputs": [
    {
     "name": "stdout",
     "output_type": "stream",
     "text": [
      "[10 11 12 13 14 15 16 17 18 19 20 21 22 23 24 25 26 27 28 29 30 31 32 33\n",
      " 34 35 36 37 38 39 40 41 42 43 44 45 46 47 48 49]\n"
     ]
    }
   ],
   "source": [
    "Vector = np.arange(10,50)\n",
    "print(Vector)"
   ]
  },
  {
   "cell_type": "markdown",
   "id": "64df6138",
   "metadata": {},
   "source": [
    "3. Create a 3x3 matrix with values ranging from 0 to 8"
   ]
  },
  {
   "cell_type": "code",
   "execution_count": 13,
   "id": "5ebaccb3",
   "metadata": {},
   "outputs": [
    {
     "name": "stdout",
     "output_type": "stream",
     "text": [
      "[[0 1 2]\n",
      " [3 4 5]\n",
      " [6 7 8]]\n"
     ]
    }
   ],
   "source": [
    "vector = np.arange(9).reshape(3,3)\n",
    "print(vector)"
   ]
  },
  {
   "cell_type": "markdown",
   "id": "3f77ae16",
   "metadata": {},
   "source": [
    "4. Find indices of non-zero elements from [1,2,0,0,4,0]"
   ]
  },
  {
   "cell_type": "code",
   "execution_count": 24,
   "id": "ade0cec9",
   "metadata": {},
   "outputs": [
    {
     "name": "stdout",
     "output_type": "stream",
     "text": [
      "(array([0, 1, 4], dtype=int64),)\n"
     ]
    }
   ],
   "source": [
    "vector = [1,2,0,0,4,0]\n",
    "print(np.nonzero(vector))"
   ]
  },
  {
   "cell_type": "markdown",
   "id": "1c37ca24",
   "metadata": {},
   "source": [
    "5. Create a 10x10 array with random values and find the minimum and maximum values."
   ]
  },
  {
   "cell_type": "code",
   "execution_count": 42,
   "id": "9cc25fd8",
   "metadata": {},
   "outputs": [
    {
     "name": "stdout",
     "output_type": "stream",
     "text": [
      "[[280 481 144  56 225 140  94 470 430 426]\n",
      " [ 17 189 185 366 172  41 246 168  33 368]\n",
      " [411 131 377 281 277 233  29 239 388 288]\n",
      " [ 21 357 467 412 227  19 263 489 359 204]\n",
      " [ 74  84  40 451 245 163 150 367  12 351]\n",
      " [354  99 142  58 302 279 496 351 358  30]\n",
      " [369 468 309 362 105 434 341  60 124 140]\n",
      " [122 330 484 174 410 141 320 171 450 465]\n",
      " [400 409  16  20 459 173  95  35 247 333]\n",
      " [490 415 159 263 419 295 127 387 312 399]]\n",
      "\n",
      "Max value from array is 496\n",
      "\n",
      "Min value from array is 12\n"
     ]
    }
   ],
   "source": [
    "array = np.random.randint(low = 10, high = 500, size = (10,10))\n",
    "\n",
    "print(\"\\nMax value from array is {}\".format(np.max(array)))\n",
    "print(\"\\nMin value from array is {}\".format(np.min(array)))"
   ]
  },
  {
   "cell_type": "markdown",
   "id": "2e339482",
   "metadata": {},
   "source": [
    "6. Create a random vector of size 30 and find the mean value."
   ]
  },
  {
   "cell_type": "code",
   "execution_count": 58,
   "id": "ca14d214",
   "metadata": {},
   "outputs": [
    {
     "name": "stdout",
     "output_type": "stream",
     "text": [
      "Mean of array is 213.76666666666668\n"
     ]
    }
   ],
   "source": [
    "np.random.seed(0)\n",
    "array = np.random.randint(low = 10, high = 500, size = (30))\n",
    "\n",
    "print(\"Mean of array is {}\".format(np.mean(array)))"
   ]
  }
 ],
 "metadata": {
  "kernelspec": {
   "display_name": "Python 3",
   "language": "python",
   "name": "python3"
  },
  "language_info": {
   "codemirror_mode": {
    "name": "ipython",
    "version": 3
   },
   "file_extension": ".py",
   "mimetype": "text/x-python",
   "name": "python",
   "nbconvert_exporter": "python",
   "pygments_lexer": "ipython3",
   "version": "3.8.8"
  }
 },
 "nbformat": 4,
 "nbformat_minor": 5
}
