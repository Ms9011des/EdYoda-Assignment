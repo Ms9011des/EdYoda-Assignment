{
 "cells": [
  {
   "cell_type": "code",
   "execution_count": 4,
   "id": "6baea0c0",
   "metadata": {},
   "outputs": [
    {
     "name": "stdout",
     "output_type": "stream",
     "text": [
      "10\n",
      "2\n",
      "100\n"
     ]
    }
   ],
   "source": [
    "class maths:\n",
    "    def __init__(self,a,b):\n",
    "        self.x = a\n",
    "        self.n = b\n",
    "    \n",
    "    def power(self):\n",
    "        print(x**n)\n",
    "        \n",
    "x = int(input())\n",
    "n = int(input())\n",
    "\n",
    "a = maths(x,n)\n",
    "a.power()"
   ]
  }
 ],
 "metadata": {
  "kernelspec": {
   "display_name": "Python 3",
   "language": "python",
   "name": "python3"
  },
  "language_info": {
   "codemirror_mode": {
    "name": "ipython",
    "version": 3
   },
   "file_extension": ".py",
   "mimetype": "text/x-python",
   "name": "python",
   "nbconvert_exporter": "python",
   "pygments_lexer": "ipython3",
   "version": "3.8.8"
  }
 },
 "nbformat": 4,
 "nbformat_minor": 5
}
