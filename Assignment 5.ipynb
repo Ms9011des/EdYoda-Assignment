{
 "cells": [
  {
   "cell_type": "code",
   "execution_count": 9,
   "id": "2872e0d7",
   "metadata": {},
   "outputs": [
    {
     "name": "stdout",
     "output_type": "stream",
     "text": [
      "10\n",
      "2\n",
      "100\n"
     ]
    }
   ],
   "source": [
    "class power:\n",
    "    def __init__(self,a,b):\n",
    "        self.pow = a**b\n",
    "        \n",
    "x = int(input())\n",
    "n = int(input())\n",
    "\n",
    "a = power(x,n)\n",
    "print(a.pow)"
   ]
  }
 ],
 "metadata": {
  "kernelspec": {
   "display_name": "Python 3",
   "language": "python",
   "name": "python3"
  }
 },
 "nbformat": 4,
 "nbformat_minor": 5
}
