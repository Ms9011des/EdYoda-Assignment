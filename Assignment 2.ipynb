{
 "cells": [
  {
   "cell_type": "code",
   "execution_count": 4,
   "id": "eb2a136e",
   "metadata": {},
   "outputs": [
    {
     "name": "stdout",
     "output_type": "stream",
     "text": [
      "[(2, 1), (1, 2), (2, 3), (4, 4), (2, 5)]\n"
     ]
    }
   ],
   "source": [
    "a = [(2, 5), (1, 2), (4, 4), (2, 3), (2, 1)]\n",
    "b = []\n",
    "c = []\n",
    "count = 0\n",
    "for tup in a:\n",
    "    b.append(tup[1])\n",
    "b.sort()\n",
    "for num in b:\n",
    "    for tup in a:\n",
    "        if num == tup[1]:\n",
    "            c.append(tup)\n",
    "    count += 1\n",
    "            \n",
    "print(c)"
   ]
  }
 ],
 "metadata": {
  "kernelspec": {
   "display_name": "Python 3",
   "language": "python",
   "name": "python3"
  },
  "language_info": {
   "codemirror_mode": {
    "name": "ipython",
    "version": 3
   },
   "file_extension": ".py",
   "mimetype": "text/x-python",
   "name": "python",
   "nbconvert_exporter": "python",
   "pygments_lexer": "ipython3",
   "version": "3.8.8"
  }
 },
 "nbformat": 4,
 "nbformat_minor": 5
}
