{
 "cells": [
  {
   "cell_type": "code",
   "execution_count": 42,
   "id": "75f3fd38",
   "metadata": {},
   "outputs": [
    {
     "name": "stdout",
     "output_type": "stream",
     "text": [
      "20\n"
     ]
    }
   ],
   "source": [
    "def sumation(lst):\n",
    "    a = 0\n",
    "    for i in lst:\n",
    "        a += i\n",
    "    return a\n",
    "\n",
    "input_list = (8, 2, 3, 0, 7)\n",
    "\n",
    "print(sumation(input_list))"
   ]
  }
 ],
 "metadata": {
  "kernelspec": {
   "display_name": "Python 3",
   "language": "python",
   "name": "python3"
  },
  "language_info": {
   "codemirror_mode": {
    "name": "ipython",
    "version": 3
   },
   "file_extension": ".py",
   "mimetype": "text/x-python",
   "name": "python",
   "nbconvert_exporter": "python",
   "pygments_lexer": "ipython3",
   "version": "3.8.8"
  }
 },
 "nbformat": 4,
 "nbformat_minor": 5
}
