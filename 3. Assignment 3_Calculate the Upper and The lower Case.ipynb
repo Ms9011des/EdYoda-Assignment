{
 "cells": [
  {
   "cell_type": "code",
   "execution_count": 2,
   "id": "89dbde71",
   "metadata": {},
   "outputs": [
    {
     "name": "stdout",
     "output_type": "stream",
     "text": [
      "Uppar case letters are  3\n",
      "Lower case letters are  12\n"
     ]
    }
   ],
   "source": [
    "def upper_lower(string):\n",
    "    upper = 0\n",
    "    lower = 0\n",
    "    for char in string:\n",
    "        if char.isupper():\n",
    "            upper += 1\n",
    "        elif char.islower():\n",
    "            lower += 1\n",
    "    print(\"Uppar case letters are \", upper)\n",
    "    print(\"Lower case letters are \", lower)\n",
    "\n",
    "upper_lower('The quick Brow Fox')"
   ]
  }
 ],
 "metadata": {
  "kernelspec": {
   "display_name": "Python 3",
   "language": "python",
   "name": "python3"
  },
  "language_info": {
   "codemirror_mode": {
    "name": "ipython",
    "version": 3
   },
   "file_extension": ".py",
   "mimetype": "text/x-python",
   "name": "python",
   "nbconvert_exporter": "python",
   "pygments_lexer": "ipython3",
   "version": "3.8.8"
  }
 },
 "nbformat": 4,
 "nbformat_minor": 5
}
