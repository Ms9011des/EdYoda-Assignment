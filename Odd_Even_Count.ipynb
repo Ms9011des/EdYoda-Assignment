{
 "cells": [
  {
   "cell_type": "code",
   "execution_count": 13,
   "id": "514e651e",
   "metadata": {},
   "outputs": [
    {
     "name": "stdout",
     "output_type": "stream",
     "text": [
      "Enter series of numbers: 65232\n",
      "['65232']\n",
      "\n",
      "Number of even numbers:  1\n",
      "Number of odd numbers:  0\n"
     ]
    }
   ],
   "source": [
    "numbers = input(\"Enter series of numbers: \")\n",
    "number_list = numbers.split()\n",
    "print(number_list)\n",
    "even = 0\n",
    "odd = 0\n",
    "for num in number_list:\n",
    "    if not num.isnumeric():\n",
    "        print(num + \" is not Valid Input.\")\n",
    "        continue\n",
    "    if int(num) % 2 == 0:\n",
    "        even += 1\n",
    "    else: \n",
    "        odd += 1\n",
    "print()\n",
    "print(\"Number of even numbers: \", even)\n",
    "print(\"Number of odd numbers: \", odd)"
   ]
  },
  {
   "cell_type": "code",
   "execution_count": null,
   "id": "3ad9fafe",
   "metadata": {},
   "outputs": [],
   "source": []
  }
 ],
 "metadata": {
  "kernelspec": {
   "display_name": "Python 3",
   "language": "python",
   "name": "python3"
  },
  "language_info": {
   "codemirror_mode": {
    "name": "ipython",
    "version": 3
   },
   "file_extension": ".py",
   "mimetype": "text/x-python",
   "name": "python",
   "nbconvert_exporter": "python",
   "pygments_lexer": "ipython3",
   "version": "3.8.8"
  }
 },
 "nbformat": 4,
 "nbformat_minor": 5
}
