{
 "cells": [
  {
   "cell_type": "code",
   "execution_count": 19,
   "id": "d38791b3",
   "metadata": {},
   "outputs": [
    {
     "name": "stdout",
     "output_type": "stream",
     "text": [
      "Enter series of numbers (Differentialte number with space between them): 1 2 3 4 5 6 7 8 9\n",
      "\n",
      "Number of even numbers:  4\n",
      "Number of odd numbers:  5\n"
     ]
    }
   ],
   "source": [
    "numbers = input(\"Enter series of numbers (Differentialte number with space between them): \")\n",
    "number_list = numbers.split()\n",
    "\n",
    "even = 0\n",
    "odd = 0\n",
    "for num in number_list:\n",
    "    if not num.isnumeric():\n",
    "        print(num + \" is not valid input.\")\n",
    "        continue\n",
    "    if int(num) % 2 == 0:\n",
    "        even += 1\n",
    "    else: \n",
    "        odd += 1\n",
    "print()\n",
    "print(\"Number of even numbers: \", even)\n",
    "print(\"Number of odd numbers: \", odd)"
   ]
  },
  {
   "cell_type": "code",
   "execution_count": null,
   "id": "63a2b123",
   "metadata": {},
   "outputs": [],
   "source": []
  }
 ],
 "metadata": {
  "kernelspec": {
   "display_name": "Python 3",
   "language": "python",
   "name": "python3"
  },
  "language_info": {
   "codemirror_mode": {
    "name": "ipython",
    "version": 3
   },
   "file_extension": ".py",
   "mimetype": "text/x-python",
   "name": "python",
   "nbconvert_exporter": "python",
   "pygments_lexer": "ipython3",
   "version": "3.8.8"
  }
 },
 "nbformat": 4,
 "nbformat_minor": 5
}
